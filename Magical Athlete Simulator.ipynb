{
 "cells": [
  {
   "cell_type": "code",
   "execution_count": 2,
   "id": "95be5f4f",
   "metadata": {},
   "outputs": [],
   "source": [
    "import random"
   ]
  },
  {
   "cell_type": "code",
   "execution_count": 7,
   "id": "cd05803b",
   "metadata": {},
   "outputs": [],
   "source": [
    "class MagicalAthlete:\n",
    "    def __init__(self, racer):\n",
    "        self.board = \"\"\n",
    "        self.round = 1\n",
    "    \n",
    "    def determine_board(self):\n",
    "        pass\n",
    "    \n",
    "    def determine_racers(self):\n",
    "        pass\n",
    "    \n",
    "    def determine_turn_order(self):\n",
    "        pass\n",
    "    \n",
    "    def update_round_number(self):\n",
    "        self.round += 1\n",
    "    \n",
    "    def determine_current_turn():\n",
    "        pass\n",
    "    \n",
    "    def start_current_turn():\n",
    "        pass\n",
    "    \n",
    "    def end_current_turn():\n",
    "        pass"
   ]
  },
  {
   "cell_type": "code",
   "execution_count": 8,
   "id": "00cefea3",
   "metadata": {},
   "outputs": [],
   "source": [
    "class Racer:\n",
    "    def __init__(self, name, position = 0):\n",
    "        self.name = name\n",
    "        self.position = position\n",
    "        \n",
    "    def roll_die(self):\n",
    "        die_outcome = random.randint(1, 6)\n",
    "        return die_outcome"
   ]
  },
  {
   "cell_type": "code",
   "execution_count": 9,
   "id": "15a2c8f3",
   "metadata": {},
   "outputs": [
    {
     "name": "stdout",
     "output_type": "stream",
     "text": [
      "Turn 1 : Racer is in position 0\n",
      "Racer rolled a 5\n",
      "Turn 2 : Racer is in position 5\n",
      "Racer rolled a 6\n",
      "Turn 3 : Racer is in position 11\n",
      "Racer rolled a 1\n",
      "Turn 4 : Racer is in position 12\n",
      "Racer rolled a 6\n",
      "Turn 5 : Racer is in position 18\n",
      "Racer rolled a 4\n",
      "Turn 6 : Racer is in position 22\n",
      "Racer rolled a 2\n",
      "Turn 7 : Racer is in position 24\n",
      "Racer rolled a 1\n",
      "Turn 8 : Racer is in position 25\n",
      "Racer rolled a 5\n",
      "Race complete!\n"
     ]
    }
   ],
   "source": [
    "test = Racer(name = \"Racer\")\n",
    "turn_count = 0\n",
    "\n",
    "while test.position < 30:\n",
    "    turn_count += 1\n",
    "    print(\"Turn\", turn_count, \":\", test.name, \"is in position\", str(test.position))\n",
    "    die_outcome = test.roll_die()\n",
    "    test.position += die_outcome\n",
    "    print(test.name, \"rolled a\", str(die_outcome))\n",
    "    \n",
    "print(\"Race complete!\")"
   ]
  },
  {
   "cell_type": "code",
   "execution_count": null,
   "id": "4415c992",
   "metadata": {},
   "outputs": [],
   "source": []
  }
 ],
 "metadata": {
  "kernelspec": {
   "display_name": "Python 3 (ipykernel)",
   "language": "python",
   "name": "python3"
  },
  "language_info": {
   "codemirror_mode": {
    "name": "ipython",
    "version": 3
   },
   "file_extension": ".py",
   "mimetype": "text/x-python",
   "name": "python",
   "nbconvert_exporter": "python",
   "pygments_lexer": "ipython3",
   "version": "3.11.4"
  }
 },
 "nbformat": 4,
 "nbformat_minor": 5
}
