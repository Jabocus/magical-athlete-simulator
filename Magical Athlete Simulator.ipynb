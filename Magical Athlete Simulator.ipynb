{
 "cells": [
  {
   "cell_type": "code",
   "execution_count": 1,
   "id": "95be5f4f",
   "metadata": {},
   "outputs": [],
   "source": [
    "import random"
   ]
  },
  {
   "cell_type": "code",
   "execution_count": 29,
   "id": "cd05803b",
   "metadata": {},
   "outputs": [],
   "source": [
    "class MagicalAthlete:\n",
    "    def __init__(self, racers):\n",
    "        self.board = \"Mild Mile\"\n",
    "        self.racers = racers\n",
    "        self.round = 1\n",
    "        self.turn_order = []\n",
    "        self.current_turn_index = 0\n",
    "        self.determine_turn_order()\n",
    "    \n",
    "    def determine_racers(self):\n",
    "        pass\n",
    "    \n",
    "    def determine_turn_order(self):\n",
    "        self.turn_order = self.racers[:]\n",
    "        random.shuffle(self.turn_order)\n",
    "        print(f\"Turn order: {[r.name for r in self.turn_order]}\")\n",
    "    \n",
    "    def update_round_number(self):\n",
    "        self.round += 1\n",
    "    \n",
    "    def start_current_turn(self):\n",
    "        active_racer = self.turn_order[self.current_turn_index]\n",
    "        print(f\"It's {active_racer.name}'s turn\")\n",
    "\n",
    "    def end_current_turn(self):\n",
    "        pass\n",
    "\n",
    "    def check_game_end(self):\n",
    "        pass"
   ]
  },
  {
   "cell_type": "code",
   "execution_count": 21,
   "id": "00cefea3",
   "metadata": {
    "jupyter": {
     "source_hidden": true
    }
   },
   "outputs": [],
   "source": [
    "class Racer:\n",
    "    def __init__(self, name, position = 0):\n",
    "        self.name = name\n",
    "        self.position = position\n",
    "        \n",
    "    def roll_die(self):\n",
    "        die_outcome = random.randint(1, 6)\n",
    "        return die_outcome"
   ]
  },
  {
   "cell_type": "code",
   "execution_count": 23,
   "id": "15a2c8f3",
   "metadata": {
    "collapsed": true,
    "jupyter": {
     "outputs_hidden": true,
     "source_hidden": true
    },
    "scrolled": true
   },
   "outputs": [
    {
     "name": "stdout",
     "output_type": "stream",
     "text": [
      "Turn 1 : Racer is in position 0\n",
      "Racer rolled a 6\n",
      "Turn 2 : Racer is in position 6\n",
      "Racer rolled a 5\n",
      "Turn 3 : Racer is in position 11\n",
      "Racer rolled a 3\n",
      "Turn 4 : Racer is in position 14\n",
      "Racer rolled a 1\n",
      "Turn 5 : Racer is in position 15\n",
      "Racer rolled a 3\n",
      "Turn 6 : Racer is in position 18\n",
      "Racer rolled a 6\n",
      "Turn 7 : Racer is in position 24\n",
      "Racer rolled a 1\n",
      "Turn 8 : Racer is in position 25\n",
      "Racer rolled a 3\n",
      "Turn 9 : Racer is in position 28\n",
      "Racer rolled a 4\n",
      "Race complete!\n"
     ]
    }
   ],
   "source": [
    "#Quick and dirty prototype\n",
    "test = Racer(name = \"Racer\")\n",
    "turn_count = 0\n",
    "\n",
    "while test.position < 30:\n",
    "    turn_count += 1\n",
    "    print(\"Turn\", turn_count, \":\", test.name, \"is in position\", str(test.position))\n",
    "    die_outcome = test.roll_die()\n",
    "    test.position += die_outcome\n",
    "    print(test.name, \"rolled a\", str(die_outcome))\n",
    "    \n",
    "print(\"Race complete!\");"
   ]
  },
  {
   "cell_type": "code",
   "execution_count": 25,
   "id": "55502a26-8f77-4196-a866-fe50c46fbecc",
   "metadata": {
    "jupyter": {
     "source_hidden": true
    }
   },
   "outputs": [],
   "source": [
    "#Instantiate 6 racers and collect them together as a list called alphabet_racers\n",
    "a = Racer(name = \"Racer A\")\n",
    "b = Racer(name = \"Racer B\")\n",
    "c = Racer(name = \"Racer C\")\n",
    "d = Racer(name = \"Racer D\")\n",
    "e = Racer(name = \"Racer E\")\n",
    "f = Racer(name = \"Racer F\")\n",
    "\n",
    "alphabet_racers = [a, b, c, d, e, f]"
   ]
  },
  {
   "cell_type": "code",
   "execution_count": 35,
   "id": "e110e98e-7a12-4f6d-a0c4-6876ac2210f3",
   "metadata": {
    "scrolled": true
   },
   "outputs": [
    {
     "name": "stdout",
     "output_type": "stream",
     "text": [
      "Turn order: ['Racer E', 'Racer A', 'Racer B', 'Racer C', 'Racer F', 'Racer D']\n",
      "It's Racer E's turn\n"
     ]
    }
   ],
   "source": [
    "game = MagicalAthlete(alphabet_racers)\n",
    "game.start_current_turn()"
   ]
  },
  {
   "cell_type": "code",
   "execution_count": null,
   "id": "2fc16bca-28e9-4844-9a70-d2d7b7d8ef6f",
   "metadata": {},
   "outputs": [],
   "source": []
  }
 ],
 "metadata": {
  "kernelspec": {
   "display_name": "Python [conda env:base] *",
   "language": "python",
   "name": "conda-base-py"
  },
  "language_info": {
   "codemirror_mode": {
    "name": "ipython",
    "version": 3
   },
   "file_extension": ".py",
   "mimetype": "text/x-python",
   "name": "python",
   "nbconvert_exporter": "python",
   "pygments_lexer": "ipython3",
   "version": "3.12.7"
  }
 },
 "nbformat": 4,
 "nbformat_minor": 5
}
