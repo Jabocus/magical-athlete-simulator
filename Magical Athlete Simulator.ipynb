{
 "cells": [
  {
   "cell_type": "code",
   "execution_count": 103,
   "id": "95be5f4f",
   "metadata": {},
   "outputs": [],
   "source": [
    "import random"
   ]
  },
  {
   "cell_type": "code",
   "execution_count": 106,
   "id": "00cefea3",
   "metadata": {},
   "outputs": [],
   "source": [
    "class Racer:\n",
    "    def __init__(self, name, position = 0):\n",
    "        self.name = name\n",
    "        self.position = position\n",
    "        \n",
    "    def roll_die(self):\n",
    "        die_outcome = random.randint(1, 6)\n",
    "        return die_outcome"
   ]
  },
  {
   "cell_type": "code",
   "execution_count": 107,
   "id": "15a2c8f3",
   "metadata": {},
   "outputs": [
    {
     "name": "stdout",
     "output_type": "stream",
     "text": [
      "Turn 1 : Racer is in position 0\n",
      "Racer rolled a 5\n",
      "Turn 2 : Racer is in position 5\n",
      "Racer rolled a 1\n",
      "Turn 3 : Racer is in position 6\n",
      "Racer rolled a 3\n",
      "Turn 4 : Racer is in position 9\n",
      "Racer rolled a 3\n",
      "Turn 5 : Racer is in position 12\n",
      "Racer rolled a 3\n",
      "Turn 6 : Racer is in position 15\n",
      "Racer rolled a 3\n",
      "Turn 7 : Racer is in position 18\n",
      "Racer rolled a 1\n",
      "Turn 8 : Racer is in position 19\n",
      "Racer rolled a 4\n",
      "Turn 9 : Racer is in position 23\n",
      "Racer rolled a 4\n",
      "Turn 10 : Racer is in position 27\n",
      "Racer rolled a 4\n",
      "Race complete!\n"
     ]
    }
   ],
   "source": [
    "test = Racer(name = \"Racer\")\n",
    "turn_count = 0\n",
    "\n",
    "while test.position < 30:\n",
    "    turn_count += 1\n",
    "    print(\"Turn\", turn_count, \":\", test.name, \"is in position\", str(test.position))\n",
    "    die_outcome = test.roll_die()\n",
    "    test.position += die_outcome\n",
    "    print(test.name, \"rolled a\", str(die_outcome))\n",
    "    \n",
    "print(\"Race complete!\")"
   ]
  },
  {
   "cell_type": "code",
   "execution_count": null,
   "id": "903aa31e",
   "metadata": {},
   "outputs": [],
   "source": []
  },
  {
   "cell_type": "code",
   "execution_count": null,
   "id": "53508e8a",
   "metadata": {},
   "outputs": [],
   "source": []
  }
 ],
 "metadata": {
  "kernelspec": {
   "display_name": "Python 3 (ipykernel)",
   "language": "python",
   "name": "python3"
  },
  "language_info": {
   "codemirror_mode": {
    "name": "ipython",
    "version": 3
   },
   "file_extension": ".py",
   "mimetype": "text/x-python",
   "name": "python",
   "nbconvert_exporter": "python",
   "pygments_lexer": "ipython3",
   "version": "3.11.4"
  }
 },
 "nbformat": 4,
 "nbformat_minor": 5
}
